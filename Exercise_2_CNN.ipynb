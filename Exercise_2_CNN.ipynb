{
  "nbformat": 4,
  "nbformat_minor": 0,
  "metadata": {
    "colab": {
      "name": "Exercise 2 CNN.ipynb",
      "provenance": [],
      "collapsed_sections": [],
      "include_colab_link": true
    },
    "kernelspec": {
      "name": "python3",
      "display_name": "Python 3"
    },
    "accelerator": "GPU"
  },
  "cells": [
    {
      "cell_type": "markdown",
      "metadata": {
        "id": "view-in-github",
        "colab_type": "text"
      },
      "source": [
        "<a href=\"https://colab.research.google.com/github/vlad-danaila/machine-learning-workout/blob/master/Exercise_2_CNN.ipynb\" target=\"_parent\"><img src=\"https://colab.research.google.com/assets/colab-badge.svg\" alt=\"Open In Colab\"/></a>"
      ]
    },
    {
      "cell_type": "code",
      "metadata": {
        "id": "DDugI34NYmtT",
        "colab_type": "code",
        "outputId": "4c6185b7-bca6-4632-a561-6f32643fa431",
        "colab": {
          "base_uri": "https://localhost:8080/",
          "height": 119
        }
      },
      "source": [
        "!pip3 install torch torchvision"
      ],
      "execution_count": 0,
      "outputs": [
        {
          "output_type": "stream",
          "text": [
            "Requirement already satisfied: torch in /usr/local/lib/python3.6/dist-packages (1.1.0)\n",
            "Requirement already satisfied: torchvision in /usr/local/lib/python3.6/dist-packages (0.3.0)\n",
            "Requirement already satisfied: numpy in /usr/local/lib/python3.6/dist-packages (from torch) (1.16.5)\n",
            "Requirement already satisfied: six in /usr/local/lib/python3.6/dist-packages (from torchvision) (1.12.0)\n",
            "Requirement already satisfied: pillow>=4.1.1 in /usr/local/lib/python3.6/dist-packages (from torchvision) (4.3.0)\n",
            "Requirement already satisfied: olefile in /usr/local/lib/python3.6/dist-packages (from pillow>=4.1.1->torchvision) (0.46)\n"
          ],
          "name": "stdout"
        }
      ]
    },
    {
      "cell_type": "code",
      "metadata": {
        "id": "AQmrmb2MZQ0X",
        "colab_type": "code",
        "colab": {}
      },
      "source": [
        "import torch as t\n",
        "import torchvision as tv\n",
        "import numpy as np\n",
        "import sklearn as sk\n",
        "import matplotlib.pyplot as plt"
      ],
      "execution_count": 0,
      "outputs": []
    },
    {
      "cell_type": "markdown",
      "metadata": {
        "id": "D-w1NbKSla02",
        "colab_type": "text"
      },
      "source": [
        "**Data load**"
      ]
    },
    {
      "cell_type": "code",
      "metadata": {
        "id": "u81pO9N5fWHw",
        "colab_type": "code",
        "outputId": "3af23aaf-a317-4b06-826a-756217a02690",
        "colab": {
          "base_uri": "https://localhost:8080/",
          "height": 51
        }
      },
      "source": [
        "BATCH_SIZE = 128\n",
        "normalization_params = (.5, .5, .5)\n",
        "\n",
        "train_transform = tv.transforms.Compose([\n",
        "    tv.transforms.ColorJitter(brightness = .1, contrast = .1, saturation = .1, hue = .1),\n",
        "    tv.transforms.RandomAffine(degrees = .2, shear = .2),\n",
        "    tv.transforms.RandomHorizontalFlip(),\n",
        "#     tv.transforms.RandomResizedCrop(32),\n",
        "    tv.transforms.ToTensor(),\n",
        "    tv.transforms.Normalize(mean = normalization_params, std = normalization_params)\n",
        "])\n",
        "test_trasnform = tv.transforms.Compose([\n",
        "    tv.transforms.ToTensor(),\n",
        "    tv.transforms.Normalize(mean = normalization_params, std = normalization_params)\n",
        "])\n",
        "\n",
        "cifar10_train = tv.datasets.CIFAR10('.', train = True, transform = train_transform, download = True)\n",
        "cifar10_test = tv.datasets.CIFAR10('.', train = False, transform = test_trasnform, download = True)\n",
        "\n",
        "loader_train = t.utils.data.DataLoader(cifar10_train, BATCH_SIZE, shuffle = True)\n",
        "loader_test = t.utils.data.DataLoader(cifar10_test, BATCH_SIZE, shuffle = True)"
      ],
      "execution_count": 0,
      "outputs": [
        {
          "output_type": "stream",
          "text": [
            "Files already downloaded and verified\n",
            "Files already downloaded and verified\n"
          ],
          "name": "stdout"
        }
      ]
    },
    {
      "cell_type": "code",
      "metadata": {
        "id": "m7gGKMAZg5d_",
        "colab_type": "code",
        "colab": {}
      },
      "source": [
        "CLASS_LABELS = 'airplane', 'automobile', 'bird', 'cat', 'deer', 'dog', 'frog', 'horse', 'ship', 'truck'\n",
        "\n",
        "def to_numpy(x):\n",
        "  return x.cpu().detach().numpy()\n",
        "\n",
        "def plot_img(img, label, prediction):\n",
        "  img = to_numpy(img).transpose((1, 2, 0))\n",
        "  plt.title(CLASS_LABELS[label], color = 'green' if prediction == label else 'red')\n",
        "  plt.imshow(img)"
      ],
      "execution_count": 0,
      "outputs": []
    },
    {
      "cell_type": "code",
      "metadata": {
        "id": "4_7LSfuRgmMJ",
        "colab_type": "code",
        "colab": {}
      },
      "source": [
        "# sample_x, sample_y = next(iter(loader_train))\n",
        "# fig = plt.figure(figsize = (14, 7))\n",
        "\n",
        "# for i in range(BATCH_SIZE):\n",
        "  # fig.add_subplot(4, 8, i + 1, xticks = [], yticks = [])\n",
        "  # plot_img(sample_x[i], sample_y[i], sample_y[i])"
      ],
      "execution_count": 0,
      "outputs": []
    },
    {
      "cell_type": "markdown",
      "metadata": {
        "id": "8UbQTXNPliaO",
        "colab_type": "text"
      },
      "source": [
        "**Model**"
      ]
    },
    {
      "cell_type": "code",
      "metadata": {
        "id": "xb53WvG8lS_o",
        "colab_type": "code",
        "colab": {}
      },
      "source": [
        "class Cifar_10_Classifier(t.nn.Module):\n",
        "  def __init__(self):\n",
        "    super().__init__()\n",
        "    self.feats = t.nn.Sequential(\n",
        "      t.nn.BatchNorm2d(3),\n",
        "      t.nn.Conv2d(3, 32, 3, padding = 1), \n",
        "      t.nn.ReLU(True),\n",
        "      t.nn.MaxPool2d(2), # output 16\n",
        "        \n",
        "      t.nn.BatchNorm2d(32),\n",
        "      t.nn.Conv2d(32, 64, 3, padding = 1),\n",
        "      t.nn.ReLU(True), \n",
        "      t.nn.MaxPool2d(2), # output 8\n",
        "    \n",
        "      t.nn.BatchNorm2d(64),\n",
        "      t.nn.Conv2d(64, 128, 3, padding = 1),\n",
        "      t.nn.Dropout(0.2),\n",
        "      t.nn.ReLU(True),\n",
        "      t.nn.MaxPool2d(2), # output 4   \n",
        "        \n",
        "      t.nn.BatchNorm2d(128),\n",
        "      t.nn.Conv2d(128, 256, 1),\n",
        "      t.nn.Dropout(0.2),\n",
        "      t.nn.ReLU(True),   \n",
        "\n",
        "      t.nn.BatchNorm2d(256),\n",
        "      t.nn.Conv2d(256, 512, 1),\n",
        "      t.nn.Dropout(0.3),\n",
        "      t.nn.ReLU(True),\n",
        "      \n",
        "      t.nn.BatchNorm2d(512),\n",
        "      t.nn.Conv2d(512, 256, 1),\n",
        "      t.nn.Dropout(0.3),\n",
        "\n",
        "      t.nn.BatchNorm2d(256),\n",
        "      t.nn.Conv2d(256, 10, 1),\n",
        "      t.nn.Dropout(0.1),\n",
        "      # t.nn.Conv2d(10, 10, 4)\n",
        "\n",
        "      t.nn.BatchNorm2d(10),\n",
        "    )\n",
        "    self.fc = t.nn.Linear(10 * 4 * 4, 10)\n",
        "    \n",
        "  def forward(self, x):\n",
        "    x = self.feats(x)\n",
        "    x = x.view(-1, 10 * 4 * 4)\n",
        "    x = self.fc(x)\n",
        "    return x"
      ],
      "execution_count": 0,
      "outputs": []
    },
    {
      "cell_type": "code",
      "metadata": {
        "id": "orRQytiP5f45",
        "colab_type": "code",
        "colab": {}
      },
      "source": [
        "def accuracy(y_pred, y):\n",
        "  max_vals, max_indx = t.max(y_pred, 1)\n",
        "  return t.sum(max_indx == y).item() / len(y)"
      ],
      "execution_count": 0,
      "outputs": []
    },
    {
      "cell_type": "code",
      "metadata": {
        "id": "yv6gXxBErlpH",
        "colab_type": "code",
        "outputId": "cf84f6ea-c81d-492d-d94b-c4a188d637ab",
        "colab": {
          "base_uri": "https://localhost:8080/",
          "height": 527
        }
      },
      "source": [
        "EPOCHS = 30\n",
        "\n",
        "model = Cifar_10_Classifier().cuda()\n",
        "optimizer = t.optim.Adam(model.parameters(), lr = 1e-3)\n",
        "loss_fn = t.nn.CrossEntropyLoss()\n",
        "losses_train = []\n",
        "losses_eval = []\n",
        "accuracies_train = []\n",
        "accuracies_eval = []\n",
        "\n",
        "for epoch in range(EPOCHS):\n",
        "  print('Epoch', epoch + 1)\n",
        "  \n",
        "  # Train\n",
        "  epoch_train_loss = 0\n",
        "  epoch_train_accuracy = 0\n",
        "  model.train()\n",
        "  for x, y in loader_train:\n",
        "    x, y = x.cuda(), y.cuda()\n",
        "    y_pred = model.forward(x)\n",
        "    y_pred = y_pred.squeeze()\n",
        "    loss = loss_fn(y_pred, y)\n",
        "    epoch_train_loss += loss.item()\n",
        "    epoch_train_accuracy += accuracy(y_pred, y)\n",
        "    loss.backward()\n",
        "    optimizer.step()\n",
        "    optimizer.zero_grad()\n",
        "  losses_train.append(epoch_train_loss / len(loader_train))\n",
        "  accuracies_train.append(epoch_train_accuracy / len(loader_train))\n",
        "  \n",
        "  # Eval\n",
        "  epoch_eval_loss = 0\n",
        "  epoch_eval_accuracy = 0\n",
        "  model.eval()\n",
        "  with t.no_grad():\n",
        "    for x, y in loader_test:\n",
        "      x, y = x.cuda(), y.cuda()\n",
        "      y_pred = model.forward(x)\n",
        "      y_pred = y_pred.squeeze()\n",
        "      loss = loss_fn(y_pred, y)\n",
        "      epoch_eval_loss += loss.item()\n",
        "      epoch_eval_accuracy += accuracy(y_pred, y)\n",
        "  losses_eval.append(epoch_eval_loss / len(loader_test))\n",
        "  accuracies_eval.append(epoch_eval_accuracy / len(loader_test))"
      ],
      "execution_count": 0,
      "outputs": [
        {
          "output_type": "stream",
          "text": [
            "Epoch 1\n",
            "Epoch 2\n",
            "Epoch 3\n",
            "Epoch 4\n",
            "Epoch 5\n",
            "Epoch 6\n",
            "Epoch 7\n",
            "Epoch 8\n",
            "Epoch 9\n",
            "Epoch 10\n",
            "Epoch 11\n",
            "Epoch 12\n",
            "Epoch 13\n",
            "Epoch 14\n",
            "Epoch 15\n",
            "Epoch 16\n",
            "Epoch 17\n",
            "Epoch 18\n",
            "Epoch 19\n",
            "Epoch 20\n",
            "Epoch 21\n",
            "Epoch 22\n",
            "Epoch 23\n",
            "Epoch 24\n",
            "Epoch 25\n",
            "Epoch 26\n",
            "Epoch 27\n",
            "Epoch 28\n",
            "Epoch 29\n",
            "Epoch 30\n"
          ],
          "name": "stdout"
        }
      ]
    },
    {
      "cell_type": "code",
      "metadata": {
        "id": "U8BmfkYa1Jm6",
        "colab_type": "code",
        "outputId": "653dcfbf-0e5c-40f8-fdae-fec8d3fe5a4d",
        "colab": {
          "base_uri": "https://localhost:8080/",
          "height": 286
        }
      },
      "source": [
        "plt.plot(range(len(losses_train)), losses_train, label = 'train loss')\n",
        "plt.plot(range(len(losses_eval)), losses_eval, label = 'eval loss')\n",
        "plt.plot(range(len(accuracies_train)), accuracies_train, label = 'train accuracy')\n",
        "plt.plot(range(len(accuracies_eval)), accuracies_eval, label = 'eval accuracy')\n",
        "plt.legend()"
      ],
      "execution_count": 0,
      "outputs": [
        {
          "output_type": "execute_result",
          "data": {
            "text/plain": [
              "<matplotlib.legend.Legend at 0x7fb040344668>"
            ]
          },
          "metadata": {
            "tags": []
          },
          "execution_count": 88
        },
        {
          "output_type": "display_data",
          "data": {
            "image/png": "[encoded data removed]",
            "text/plain": [
              "<Figure size 432x288 with 1 Axes>"
            ]
          },
          "metadata": {
            "tags": []
          }
        }
      ]
    },
    {
      "cell_type": "code",
      "metadata": {
        "id": "yGOkqz5RAx8z",
        "colab_type": "code",
        "outputId": "1eaddc36-cca6-4569-90b2-d25f8eaff198",
        "colab": {
          "base_uri": "https://localhost:8080/",
          "height": 34
        }
      },
      "source": [
        "print(accuracies_eval[-1])"
      ],
      "execution_count": 0,
      "outputs": [
        {
          "output_type": "stream",
          "text": [
            "0.8205102848101266\n"
          ],
          "name": "stdout"
        }
      ]
    }
  ]
}