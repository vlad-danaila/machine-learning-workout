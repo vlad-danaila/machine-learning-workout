{
  "nbformat": 4,
  "nbformat_minor": 0,
  "metadata": {
    "colab": {
      "name": "Pytorch_Workout_Logistic_Regression.ipynb",
      "version": "0.3.2",
      "provenance": [],
      "collapsed_sections": [],
      "include_colab_link": true
    },
    "kernelspec": {
      "name": "python3",
      "display_name": "Python 3"
    }
  },
  "cells": [
    {
      "cell_type": "markdown",
      "metadata": {
        "id": "view-in-github",
        "colab_type": "text"
      },
      "source": [
        "<a href=\"https://colab.research.google.com/github/vlad-danaila/machine-learning-workout/blob/master/Pytorch_Workout_Logistic_Regression.ipynb\" target=\"_parent\"><img src=\"https://colab.research.google.com/assets/colab-badge.svg\" alt=\"Open In Colab\"/></a>"
      ]
    },
    {
      "cell_type": "markdown",
      "metadata": {
        "id": "UM8uTL3Ef-YI",
        "colab_type": "text"
      },
      "source": [
        "**Logistic regression**"
      ]
    },
    {
      "cell_type": "code",
      "metadata": {
        "id": "mJxdg1Gwb3Kd",
        "colab_type": "code",
        "colab": {
          "base_uri": "https://localhost:8080/",
          "height": 51
        },
        "outputId": "8ac75bfd-ad73-4acb-ba06-9357168dad2e"
      },
      "source": [
        "!pip3 install torch "
      ],
      "execution_count": 198,
      "outputs": [
        {
          "output_type": "stream",
          "text": [
            "Requirement already satisfied: torch in /usr/local/lib/python3.6/dist-packages (1.1.0)\n",
            "Requirement already satisfied: numpy in /usr/local/lib/python3.6/dist-packages (from torch) (1.16.4)\n"
          ],
          "name": "stdout"
        }
      ]
    },
    {
      "cell_type": "code",
      "metadata": {
        "id": "A-BhHHivcHGR",
        "colab_type": "code",
        "colab": {}
      },
      "source": [
        "import numpy as np\n",
        "import torch as t\n",
        "import sklearn as sk\n",
        "import sklearn.datasets\n",
        "import matplotlib.pyplot as plt"
      ],
      "execution_count": 0,
      "outputs": []
    },
    {
      "cell_type": "markdown",
      "metadata": {
        "id": "ky8au22ncbsh",
        "colab_type": "text"
      },
      "source": [
        "**Generate data**"
      ]
    },
    {
      "cell_type": "code",
      "metadata": {
        "id": "ELohpgrmdiFY",
        "colab_type": "code",
        "colab": {}
      },
      "source": [
        "x, y = sk.datasets.make_blobs(centers = [[2, 2], [3, 4]])"
      ],
      "execution_count": 0,
      "outputs": []
    },
    {
      "cell_type": "code",
      "metadata": {
        "id": "X0mJr_plcWLk",
        "colab_type": "code",
        "colab": {
          "base_uri": "https://localhost:8080/",
          "height": 295
        },
        "outputId": "6f4e8f5b-b08b-41b9-b761-8fc48f5c5caa"
      },
      "source": [
        "def plot_data():\n",
        "  plt.scatter(x[y == 0, 0], x[y == 0, 1])\n",
        "  plt.scatter(x[y == 1, 0], x[y == 1, 1])\n",
        "  plt.title('Input data')\n",
        "  plt.xlabel('X0')\n",
        "  plt.ylabel('X1')\n",
        "\n",
        "plot_data()"
      ],
      "execution_count": 201,
      "outputs": [
        {
          "output_type": "display_data",
          "data": {
            "image/png": "[encoded data removed]",
            "text/plain": [
              "<Figure size 432x288 with 1 Axes>"
            ]
          },
          "metadata": {
            "tags": []
          }
        }
      ]
    },
    {
      "cell_type": "markdown",
      "metadata": {
        "id": "A2XH89InfzFQ",
        "colab_type": "text"
      },
      "source": [
        "**Define model**"
      ]
    },
    {
      "cell_type": "code",
      "metadata": {
        "colab_type": "code",
        "id": "DamAxtMSja2I",
        "colab": {}
      },
      "source": [
        "class LogisticRegression(t.nn.Module):\n",
        "  \n",
        "  def __init__(self, input_size):\n",
        "    super().__init__()\n",
        "    self.linear = t.nn.Linear(input_size, 1)\n",
        "    \n",
        "  def forward(self, x):\n",
        "    return t.sigmoid(self.linear(x))\n",
        "  \n",
        "  def predict(self, x):\n",
        "    return 1 if self.forward(x) > 0.5 else 0"
      ],
      "execution_count": 0,
      "outputs": []
    },
    {
      "cell_type": "markdown",
      "metadata": {
        "id": "6icMkS7EkW9v",
        "colab_type": "text"
      },
      "source": [
        "**Training**"
      ]
    },
    {
      "cell_type": "code",
      "metadata": {
        "id": "7uAGz69LkUo9",
        "colab_type": "code",
        "colab": {}
      },
      "source": [
        "epochs = 10000\n",
        "model = LogisticRegression(2)\n",
        "optimizer = t.optim.SGD(model.parameters(), lr = 0.01)\n",
        "loss_fn = t.nn.BCELoss()"
      ],
      "execution_count": 0,
      "outputs": []
    },
    {
      "cell_type": "code",
      "metadata": {
        "id": "xyA8Jfk5lM_9",
        "colab_type": "code",
        "colab": {
          "base_uri": "https://localhost:8080/",
          "height": 71
        },
        "outputId": "41829594-ab7a-44ac-b553-049b8a0ffdb5"
      },
      "source": [
        "losses = []\n",
        "x_train, y_train = t.Tensor(x), t.Tensor(y)\n",
        "\n",
        "for i in range(epochs):\n",
        "  y_pred = model.forward(x_train)\n",
        "  loss = loss_fn(y_pred, y_train)\n",
        "  loss.backward()\n",
        "  optimizer.step()\n",
        "  optimizer.zero_grad()\n",
        "  losses.append(loss.detach().numpy())"
      ],
      "execution_count": 204,
      "outputs": [
        {
          "output_type": "stream",
          "text": [
            "/usr/local/lib/python3.6/dist-packages/torch/nn/modules/loss.py:512: UserWarning: Using a target size (torch.Size([100])) that is different to the input size (torch.Size([100, 1])) is deprecated. Please ensure they have the same size.\n",
            "  return F.binary_cross_entropy(input, target, weight=self.weight, reduction=self.reduction)\n"
          ],
          "name": "stderr"
        }
      ]
    },
    {
      "cell_type": "code",
      "metadata": {
        "id": "qMgd0H1_qS5r",
        "colab_type": "code",
        "colab": {
          "base_uri": "https://localhost:8080/",
          "height": 312
        },
        "outputId": "31e0d189-f088-4ccb-fda0-8cdd48441853"
      },
      "source": [
        "plt.title('Loss')\n",
        "plt.plot(range(epochs), losses)\n",
        "plt.xlabel('Epochs')\n",
        "plt.ylabel('Loss')"
      ],
      "execution_count": 205,
      "outputs": [
        {
          "output_type": "execute_result",
          "data": {
            "text/plain": [
              "Text(0, 0.5, 'Loss')"
            ]
          },
          "metadata": {
            "tags": []
          },
          "execution_count": 205
        },
        {
          "output_type": "display_data",
          "data": {
            "image/png": "[encoded data removed]",
            "text/plain": [
              "<Figure size 432x288 with 1 Axes>"
            ]
          },
          "metadata": {
            "tags": []
          }
        }
      ]
    },
    {
      "cell_type": "markdown",
      "metadata": {
        "id": "V6nsbbWI4G1i",
        "colab_type": "text"
      },
      "source": [
        "**Plot decision boundary**\n",
        "\n",
        "0.5 is the sigmoid y inflection point\n",
        "\n",
        "sigmoid(x1 * w1 + x2 * w2 + b) = 0.5\n",
        "\n",
        "sigmoid is 0.5 at 0\n",
        "\n",
        "x1 * w1 + x2 * w2 + b = 0\n",
        "\n",
        "x2 = - (x1 * w1 + b) / w2\n"
      ]
    },
    {
      "cell_type": "code",
      "metadata": {
        "id": "yxbLDRuU4i4q",
        "colab_type": "code",
        "colab": {
          "base_uri": "https://localhost:8080/",
          "height": 312
        },
        "outputId": "61cef38c-c12e-4cf6-9de4-290121805cfc"
      },
      "source": [
        "w, b = model.parameters()\n",
        "w, b = np.array(w.view(-1).detach()), np.array(b.detach())\n",
        "x1 = np.arange(6)\n",
        "x2 = -(x1 * w[0] + b) / w[1]\n",
        "plt.plot(x1, x2)\n",
        "plot_data()\n",
        "plt.title('Decision boundry')"
      ],
      "execution_count": 206,
      "outputs": [
        {
          "output_type": "execute_result",
          "data": {
            "text/plain": [
              "Text(0.5, 1.0, 'Decision boundry')"
            ]
          },
          "metadata": {
            "tags": []
          },
          "execution_count": 206
        },
        {
          "output_type": "display_data",
          "data": {
            "image/png": "[encoded data removed]",
            "text/plain": [
              "<Figure size 432x288 with 1 Axes>"
            ]
          },
          "metadata": {
            "tags": []
          }
        }
      ]
    }
  ]
}