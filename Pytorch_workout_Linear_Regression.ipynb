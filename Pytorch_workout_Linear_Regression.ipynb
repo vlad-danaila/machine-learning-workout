{
  "nbformat": 4,
  "nbformat_minor": 0,
  "metadata": {
    "colab": {
      "name": "Pytorch workout - Linear Regression.ipynb",
      "version": "0.3.2",
      "provenance": [],
      "collapsed_sections": [],
      "include_colab_link": true
    },
    "kernelspec": {
      "name": "python3",
      "display_name": "Python 3"
    }
  },
  "cells": [
    {
      "cell_type": "markdown",
      "metadata": {
        "id": "view-in-github",
        "colab_type": "text"
      },
      "source": [
        "<a href=\"https://colab.research.google.com/github/vlad-danaila/machine-learning-workout/blob/master/Pytorch_workout_Linear_Regression.ipynb\" target=\"_parent\"><img src=\"https://colab.research.google.com/assets/colab-badge.svg\" alt=\"Open In Colab\"/></a>"
      ]
    },
    {
      "cell_type": "code",
      "metadata": {
        "id": "4ZoMqxqT29xr",
        "colab_type": "code",
        "colab": {
          "base_uri": "https://localhost:8080/",
          "height": 51
        },
        "outputId": "79011006-693e-4a65-a968-e81c9f4629c5"
      },
      "source": [
        "!pip3 install torch"
      ],
      "execution_count": 126,
      "outputs": [
        {
          "output_type": "stream",
          "text": [
            "Requirement already satisfied: torch in /usr/local/lib/python3.6/dist-packages (1.1.0)\n",
            "Requirement already satisfied: numpy in /usr/local/lib/python3.6/dist-packages (from torch) (1.16.4)\n"
          ],
          "name": "stdout"
        }
      ]
    },
    {
      "cell_type": "code",
      "metadata": {
        "id": "X-BvJT7S3ptx",
        "colab_type": "code",
        "colab": {}
      },
      "source": [
        "import torch as t\n",
        "import numpy as np\n",
        "import matplotlib.pyplot as plt"
      ],
      "execution_count": 0,
      "outputs": []
    },
    {
      "cell_type": "code",
      "metadata": {
        "id": "ot4oyJ9o8T74",
        "colab_type": "code",
        "colab": {}
      },
      "source": [
        "class LinearRegression(t.nn.Module):\n",
        "  \n",
        "  def __init__(self):\n",
        "    super().__init__()\n",
        "    self.linear = t.nn.Linear(1, 1)\n",
        "\n",
        "  def forward(self, x):\n",
        "    y = self.linear(x)\n",
        "    return y"
      ],
      "execution_count": 0,
      "outputs": []
    },
    {
      "cell_type": "code",
      "metadata": {
        "id": "sCowT6Qj9VjO",
        "colab_type": "code",
        "colab": {}
      },
      "source": [
        "x = t.randn(100, 1)\n",
        "y = x + 0.5 * t.randn(100, 1)"
      ],
      "execution_count": 0,
      "outputs": []
    },
    {
      "cell_type": "code",
      "metadata": {
        "id": "2rk8hIS--vm9",
        "colab_type": "code",
        "colab": {}
      },
      "source": [
        "model = LinearRegression()\n",
        "loss_fn = t.nn.MSELoss()\n",
        "optimizer = t.optim.SGD(model.parameters(), 0.01)\n",
        "N_EPOCHS = 120\n",
        "losses = []"
      ],
      "execution_count": 0,
      "outputs": []
    },
    {
      "cell_type": "code",
      "metadata": {
        "id": "LeGUti4LBxwg",
        "colab_type": "code",
        "colab": {}
      },
      "source": [
        "def train_model():\n",
        "  y_pred = model.forward(x)\n",
        "  loss = loss_fn(y_pred, y)\n",
        "  loss.backward()\n",
        "  losses.append(loss.item())\n",
        "  optimizer.step()\n",
        "  optimizer.zero_grad()"
      ],
      "execution_count": 0,
      "outputs": []
    },
    {
      "cell_type": "code",
      "metadata": {
        "id": "QWOXGeCeBhOa",
        "colab_type": "code",
        "colab": {}
      },
      "source": [
        "for epoch in range(N_EPOCHS):\n",
        "    train_model()"
      ],
      "execution_count": 0,
      "outputs": []
    },
    {
      "cell_type": "code",
      "metadata": {
        "id": "fY76JWL0Ezm6",
        "colab_type": "code",
        "colab": {
          "base_uri": "https://localhost:8080/",
          "height": 295
        },
        "outputId": "4b954701-c378-438f-c1e0-5f29855e27f7"
      },
      "source": [
        "plt.plot(list(range(len(losses))), losses)\n",
        "plt.title('Mean squared error loss')\n",
        "plt.xlabel('Epochs')\n",
        "plt.ylabel('Loss value')\n",
        "plt.show()"
      ],
      "execution_count": 133,
      "outputs": [
        {
          "output_type": "display_data",
          "data": {
            "image/png": "[encoded data removed]",
            "text/plain": [
              "<Figure size 432x288 with 1 Axes>"
            ]
          },
          "metadata": {
            "tags": []
          }
        }
      ]
    },
    {
      "cell_type": "code",
      "metadata": {
        "id": "yNnIDRb3Hq5b",
        "colab_type": "code",
        "colab": {
          "base_uri": "https://localhost:8080/",
          "height": 286
        },
        "outputId": "8cd0c591-7558-4748-e42e-f154df2fe457"
      },
      "source": [
        "y_pred = model.forward(x)\n",
        "plt.scatter(x.view(-1), y)\n",
        "plt.plot(x.view(-1).numpy(), y_pred.view(-1).detach().numpy(), color = 'red')"
      ],
      "execution_count": 134,
      "outputs": [
        {
          "output_type": "execute_result",
          "data": {
            "text/plain": [
              "[<matplotlib.lines.Line2D at 0x7f77b24def60>]"
            ]
          },
          "metadata": {
            "tags": []
          },
          "execution_count": 134
        },
        {
          "output_type": "display_data",
          "data": {
            "image/png": "[encoded data removed]",
            "text/plain": [
              "<Figure size 432x288 with 1 Axes>"
            ]
          },
          "metadata": {
            "tags": []
          }
        }
      ]
    }
  ]
}