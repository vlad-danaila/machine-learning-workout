{
  "nbformat": 4,
  "nbformat_minor": 0,
  "metadata": {
    "colab": {
      "name": "Pytorch_Workout_Deep_Neural_Network.ipynb",
      "version": "0.3.2",
      "provenance": [],
      "collapsed_sections": [],
      "include_colab_link": true
    },
    "kernelspec": {
      "name": "python3",
      "display_name": "Python 3"
    }
  },
  "cells": [
    {
      "cell_type": "markdown",
      "metadata": {
        "id": "view-in-github",
        "colab_type": "text"
      },
      "source": [
        "<a href=\"https://colab.research.google.com/github/vlad-danaila/machine-learning-workout/blob/master/Pytorch_Workout_Deep_Neural_Network.ipynb\" target=\"_parent\"><img src=\"https://colab.research.google.com/assets/colab-badge.svg\" alt=\"Open In Colab\"/></a>"
      ]
    },
    {
      "cell_type": "markdown",
      "metadata": {
        "id": "B9jhIq4ZXFt7",
        "colab_type": "text"
      },
      "source": [
        "**Deep neural network**"
      ]
    },
    {
      "cell_type": "code",
      "metadata": {
        "id": "T8KZwyzEF9yd",
        "colab_type": "code",
        "colab": {
          "base_uri": "https://localhost:8080/",
          "height": 51
        },
        "outputId": "618788f6-0c4d-428a-e6bc-78ec1e5cbb48"
      },
      "source": [
        "!pip3 install torch"
      ],
      "execution_count": 194,
      "outputs": [
        {
          "output_type": "stream",
          "text": [
            "Requirement already satisfied: torch in /usr/local/lib/python3.6/dist-packages (1.1.0)\n",
            "Requirement already satisfied: numpy in /usr/local/lib/python3.6/dist-packages (from torch) (1.16.4)\n"
          ],
          "name": "stdout"
        }
      ]
    },
    {
      "cell_type": "code",
      "metadata": {
        "id": "9rbuy5rmWs5z",
        "colab_type": "code",
        "colab": {}
      },
      "source": [
        "import numpy as np\n",
        "import torch as t\n",
        "import matplotlib.pyplot as plt\n",
        "import sklearn as sk\n",
        "import sklearn.datasets\n",
        "import torch.nn\n",
        "import torch.optim"
      ],
      "execution_count": 0,
      "outputs": []
    },
    {
      "cell_type": "markdown",
      "metadata": {
        "id": "vpV0pxCwXsMq",
        "colab_type": "text"
      },
      "source": [
        "**Create dataset**"
      ]
    },
    {
      "cell_type": "code",
      "metadata": {
        "id": "iyQdUBzUXDZd",
        "colab_type": "code",
        "colab": {}
      },
      "source": [
        "x, y = sk.datasets.make_circles(100, noise = 0.3, factor = 0.3)"
      ],
      "execution_count": 0,
      "outputs": []
    },
    {
      "cell_type": "code",
      "metadata": {
        "id": "9prDmb8zYTZJ",
        "colab_type": "code",
        "colab": {
          "base_uri": "https://localhost:8080/",
          "height": 281
        },
        "outputId": "b6d7c7ec-872a-4b58-d542-8f4db0e8862e"
      },
      "source": [
        "def plot_data():\n",
        "  plt.scatter(x[y == 0, 0], x[y == 0, 1])\n",
        "  plt.scatter(x[y == 1, 0], x[y == 1, 1])\n",
        "  plt.title('Training set')\n",
        "plot_data()"
      ],
      "execution_count": 197,
      "outputs": [
        {
          "output_type": "display_data",
          "data": {
            "image/png": "[encoded data removed]",
            "text/plain": [
              "<Figure size 432x288 with 1 Axes>"
            ]
          },
          "metadata": {
            "tags": []
          }
        }
      ]
    },
    {
      "cell_type": "markdown",
      "metadata": {
        "id": "AsbrBhFOZNmC",
        "colab_type": "text"
      },
      "source": [
        "**Define model**"
      ]
    },
    {
      "cell_type": "code",
      "metadata": {
        "id": "LeS7X33sZGOi",
        "colab_type": "code",
        "colab": {}
      },
      "source": [
        "class DeepNetwork(t.nn.Module):\n",
        "  \n",
        "  def __init__(self, layer_sizes):\n",
        "    super().__init__()\n",
        "    self.layers = t.nn.ModuleList()\n",
        "    for i in range(len(layer_sizes) - 1):\n",
        "      self.layers.append(t.nn.Linear(layer_sizes[i], layer_sizes[i + 1]))\n",
        "      \n",
        "  def forward(self, x):\n",
        "    for layer in self.layers:\n",
        "      x = t.sigmoid(layer(x))\n",
        "    return x"
      ],
      "execution_count": 0,
      "outputs": []
    },
    {
      "cell_type": "markdown",
      "metadata": {
        "id": "2Q_nSTKadPbK",
        "colab_type": "text"
      },
      "source": [
        "**Training**"
      ]
    },
    {
      "cell_type": "code",
      "metadata": {
        "id": "YDWUPgjAbi5s",
        "colab_type": "code",
        "colab": {
          "base_uri": "https://localhost:8080/",
          "height": 366
        },
        "outputId": "59a6ce11-f0f1-4257-b45c-82f3b3922f69"
      },
      "source": [
        "model = DeepNetwork([2, 4, 1])\n",
        "epochs = 200\n",
        "losses = []\n",
        "optimizer = t.optim.Adam(model.parameters(), lr = 0.1)\n",
        "loss_fn = t.nn.BCELoss()\n",
        "\n",
        "x_train, y_train = t.Tensor(x), t.Tensor(y)\n",
        "\n",
        "for i in range(epochs):\n",
        "  y_pred = model.forward(x_train)\n",
        "  loss = loss_fn(y_pred, y_train)\n",
        "  losses.append(loss.item())\n",
        "  loss.backward()\n",
        "  optimizer.step()\n",
        "  optimizer.zero_grad()\n",
        "  \n",
        "plt.plot(range(epochs), losses)\n",
        "plt.title('Loss')\n",
        "plt.xlabel('Epochs')\n",
        "plt.ylabel('Loss')"
      ],
      "execution_count": 199,
      "outputs": [
        {
          "output_type": "stream",
          "text": [
            "/usr/local/lib/python3.6/dist-packages/torch/nn/modules/loss.py:512: UserWarning: Using a target size (torch.Size([100])) that is different to the input size (torch.Size([100, 1])) is deprecated. Please ensure they have the same size.\n",
            "  return F.binary_cross_entropy(input, target, weight=self.weight, reduction=self.reduction)\n"
          ],
          "name": "stderr"
        },
        {
          "output_type": "execute_result",
          "data": {
            "text/plain": [
              "Text(0, 0.5, 'Loss')"
            ]
          },
          "metadata": {
            "tags": []
          },
          "execution_count": 199
        },
        {
          "output_type": "display_data",
          "data": {
            "image/png": "[encoded data removed]",
            "text/plain": [
              "<Figure size 432x288 with 1 Axes>"
            ]
          },
          "metadata": {
            "tags": []
          }
        }
      ]
    },
    {
      "cell_type": "markdown",
      "metadata": {
        "id": "d5yKh3QAtjOr",
        "colab_type": "text"
      },
      "source": [
        "**Decision boundry**"
      ]
    },
    {
      "cell_type": "code",
      "metadata": {
        "id": "f8yoLIoctilI",
        "colab_type": "code",
        "colab": {
          "base_uri": "https://localhost:8080/",
          "height": 281
        },
        "outputId": "91537d83-ed89-446a-ec41-1b0b321fedb5"
      },
      "source": [
        "def span(x, steps = 100):\n",
        "  x_min, x_max = x.min(), x.max()\n",
        "  diff = x_max - x_min\n",
        "  padd = diff / 5\n",
        "  return np.linspace(x_min - padd, x_max + padd, steps)\n",
        "\n",
        "span_x0, span_x1 = span(x[:, 0]), span(x[:, 1])\n",
        "mesh_x0, mesh_x1 = np.meshgrid(span_x0, span_x1)\n",
        "grid = np.c_[mesh_x0.ravel(), mesh_x1.ravel()]\n",
        "grid_y = model.forward(t.Tensor(grid)).view(mesh_x0.shape) \n",
        "grid_y = grid_y > 0.5\n",
        "\n",
        "plt.contourf(span_x0, span_x1, grid_y)\n",
        "plot_data()"
      ],
      "execution_count": 200,
      "outputs": [
        {
          "output_type": "display_data",
          "data": {
            "image/png": "[encoded data removed]",
            "text/plain": [
              "<Figure size 432x288 with 1 Axes>"
            ]
          },
          "metadata": {
            "tags": []
          }
        }
      ]
    }
  ]
}